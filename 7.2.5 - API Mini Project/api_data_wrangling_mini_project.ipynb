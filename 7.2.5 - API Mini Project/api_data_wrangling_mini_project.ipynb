{
 "cells": [
  {
   "cell_type": "markdown",
   "metadata": {},
   "source": [
    "This exercise will require you to pull some data from https://data.nasdaq.com/ (formerly Quandl API)."
   ]
  },
  {
   "cell_type": "markdown",
   "metadata": {},
   "source": [
    "As a first step, you will need to register a free account on the https://data.nasdaq.com/ website."
   ]
  },
  {
   "cell_type": "markdown",
   "metadata": {},
   "source": [
    "After you register, you will be provided with a unique API key, that you should store:\n",
    "\n",
    "*Note*: Use a `.env` file and put your key in there and `python-dotenv` to access it in this notebook. \n",
    "\n",
    "The code below uses a key that was used when generating this project but has since been deleted. Never submit your keys to source control. There is a `.env-example` file in this repository to illusrtate what you need. Copy that to a file called `.env` and use your own api key in that `.env` file. Make sure you also have a `.gitignore` file with a line for `.env` added to it. \n",
    "\n",
    "The standard Python gitignore is [here](https://github.com/github/gitignore/blob/master/Python.gitignore) you can just copy that. "
   ]
  },
  {
   "cell_type": "code",
   "execution_count": 11,
   "metadata": {},
   "outputs": [
    {
     "name": "stdout",
     "output_type": "stream",
     "text": [
      "w7vwk1HbTkJ6eo4-cZ4i\n"
     ]
    }
   ],
   "source": [
    "# get api key from your .env file\n",
    "import os\n",
    "from dotenv import load_dotenv\n",
    "\n",
    "load_dotenv()\n",
    "API_KEY = os.getenv('NASDAQ_API_KEY')\n",
    "\n",
    "print(API_KEY)"
   ]
  },
  {
   "cell_type": "markdown",
   "metadata": {},
   "source": [
    "Nasdaq Data has a large number of data sources, but, unfortunately, most of them require a Premium subscription. Still, there are also a good number of free datasets."
   ]
  },
  {
   "cell_type": "markdown",
   "metadata": {},
   "source": [
    "For this mini project, we will focus on equities data from the Frankfurt Stock Exhange (FSE), which is available for free. We'll try and analyze the stock prices of a company called Carl Zeiss Meditec, which manufactures tools for eye examinations, as well as medical lasers for laser eye surgery: https://www.zeiss.com/meditec/int/home.html. The company is listed under the stock ticker AFX_X."
   ]
  },
  {
   "cell_type": "markdown",
   "metadata": {},
   "source": [
    "You can find the detailed Nasdaq Data API instructions here: https://docs.data.nasdaq.com/docs/in-depth-usage"
   ]
  },
  {
   "cell_type": "markdown",
   "metadata": {},
   "source": [
    "While there is a dedicated Python package for connecting to the Nasdaq API, we would prefer that you use the *requests* package, which can be easily downloaded using *pip* or *conda*. You can find the documentation for the package here: http://docs.python-requests.org/en/master/ "
   ]
  },
  {
   "cell_type": "markdown",
   "metadata": {},
   "source": [
    "Finally, apart from the *requests* package, you are encouraged to not use any third party Python packages, such as *pandas*, and instead focus on what's available in the Python Standard Library (the *collections* module might come in handy: https://pymotw.com/3/collections/).\n",
    "Also, since you won't have access to DataFrames, you are encouraged to us Python's native data structures - preferably dictionaries, though some questions can also be answered using lists.\n",
    "You can read more on these data structures here: https://docs.python.org/3/tutorial/datastructures.html"
   ]
  },
  {
   "cell_type": "markdown",
   "metadata": {},
   "source": [
    "Keep in mind that the JSON responses you will be getting from the API map almost one-to-one to Python's dictionaries. Unfortunately, they can be very nested, so make sure you read up on indexing dictionaries in the documentation provided above."
   ]
  },
  {
   "cell_type": "code",
   "execution_count": 45,
   "metadata": {},
   "outputs": [],
   "source": [
    "# First, import the relevant modules\n",
    "import requests"
   ]
  },
  {
   "cell_type": "markdown",
   "metadata": {},
   "source": [
    "Note: API's can change a bit with each version, for this exercise it is reccomended to use the nasdaq api at `https://data.nasdaq.com/api/v3/`. This is the same api as what used to be quandl so `https://www.quandl.com/api/v3/` should work too.\n",
    "\n",
    "Hint: We are looking for the `AFX_X` data on the `datasets/FSE/` dataset."
   ]
  },
  {
   "cell_type": "code",
   "execution_count": 25,
   "metadata": {},
   "outputs": [
    {
     "name": "stdout",
     "output_type": "stream",
     "text": [
      "['2020-12-01', 112.2, 112.2, 111.5, 112.0, None, 51.0, 5703.0, None, None, None]\n"
     ]
    }
   ],
   "source": [
    "# Now, call the Nasdaq API and pull out a small sample of the data (only one day) to get a glimpse\n",
    "# into the JSON structure that will be returned\n",
    "\n",
    "res = requests.get('https://data.nasdaq.com/api/v3/datasets/FSE/AFX_X/data.json?api_key={}'.format(API_KEY))\n",
    "print(res.json()['dataset_data']['data'][0])"
   ]
  },
  {
   "cell_type": "code",
   "execution_count": 53,
   "metadata": {},
   "outputs": [
    {
     "name": "stdout",
     "output_type": "stream",
     "text": [
      "['Date', 'Open', 'High', 'Low', 'Close', 'Change', 'Traded Volume', 'Turnover', 'Last Price of the Day', 'Daily Traded Units', 'Daily Turnover']\n",
      "dict_values([51.76, 51.65, 51.45, 51.05, 51.16, 51.88, 52.73, 52.37, 52.7, 53.11, 52.64, 52.29, 52.28, 51.5, 50.89, 50.8, 51.21, 49.5, 49.52, 48.64, 49.64, 49.09, 49.13, 49.11, 48.8, 48.4, 47.25, 46.57, 47.03, 47.09, 47.98, 48.4, 48.38, 47.3, 47.65, 46.42, 46.16, 45.81, 45.0, 45.88, 46.29, 46.53, 45.48, 45.2, 45.01, 45.16, 44.9, 45.08, 45.72, 46.01, 45.8, 45.61, 45.5, 45.58, 45.97, 45.64, 46.2, 46.19, 46.01, 45.36, 44.51, 43.58, 42.0, 42.35, 42.3, 42.3, 41.48, 42.29, 42.54, 42.65, 42.5, 42.29, 42.35, 42.49, 43.21, 42.81, 42.7, 43.0, 42.66, 43.0, 42.38, 42.16, 42.0, 42.0, 41.71, 42.11, 42.64, 42.72, 42.82, 42.46, 42.42, 42.28, 41.88, 42.4, 42.53, 42.12, 41.3, 41.73, 43.5, 44.9, 45.85, 45.13, 45.34, 45.25, 45.24, 44.94, 45.26, 45.16, 44.91, 44.7, 45.31, 45.57, 45.74, 45.06, 45.5, 45.6, 45.07, 44.67, 44.29, 44.94, 44.64, 44.79, 45.5, 44.67, 45.83, 45.29, 45.01, 45.73, 46.68, 47.23, 46.95, 47.29, 47.03, 47.46, 46.48, 46.9, 45.66, 46.34, 46.52, 46.5, 47.31, 46.77, 47.8, 47.01, 47.12, 46.8, 46.12, 45.22, 45.05, 45.61, 44.8, 44.8, 43.92, 43.67, 44.16, 43.74, 44.0, 45.06, 45.15, 45.09, 45.18, 43.4, 43.5, 41.83, 43.0, 42.52, 41.86, 42.2, 41.89, None, 42.17, 41.51, 41.88, 41.93, 42.01, 41.97, 42.5, 41.94, 42.24, None, None, 42.06, 42.02, 41.62, 41.46, 40.9, 40.96, 41.1, 39.5, 40.15, 39.77, 40.02, 39.39, 38.95, 38.73, 38.94, 39.01, 38.25, 41.8, 41.26, 41.47, 41.4, 41.4, 41.2, 41.4, 41.53, 41.61, 41.13, 41.5, 41.25, 41.12, 41.38, 41.19, 40.38, 39.75, 39.77, 39.72, 39.6, 38.85, 39.25, 38.8, 38.8, 38.5, 38.81, 37.37, 36.65, 36.2, 35.98, 35.56, 36.06, 36.02, 35.95, 34.75, 35.24, 35.38, 34.83, 35.07, 34.42, 34.0, 34.04, 34.54, 35.04, 35.04, 35.06, 34.85, 34.98, 35.38, 34.95, 34.8, 35.29, 34.91, 35.02, 35.48, 35.9, 34.99])\n"
     ]
    }
   ],
   "source": [
    "# Inspect the JSON structure of the object you created, and take note of how nested it is,\n",
    "# as well as the overall structure\n",
    "\n",
    "json = res.json()['dataset_data']\n",
    "\n",
    "col_names = json['column_names']\n",
    "print(col_names)\n",
    "data_lol  = json['data'] #lol means \"list of lists\"\n",
    "times = [row[0] for row in data_lol]\n",
    "\n",
    "AFX_data_2017 = dict()\n",
    "for i, col in enumerate(col_names[1:]):\n",
    "    data_list = [row[i+1] for row in data_lol ]\n",
    "    AFX_data_2017[col] = dict([(times[i], data_list[i]) for i in range(len(times)) if times[i][:4] == '2017'])"
   ]
  },
  {
   "cell_type": "markdown",
   "metadata": {},
   "source": [
    "These are your tasks for this mini project:\n",
    "\n",
    "1. Collect data from the Franfurt Stock Exchange, for the ticker AFX_X, for the whole year 2017 (keep in mind that the date format is YYYY-MM-DD).\n",
    "2. Convert the returned JSON object into a Python dictionary.\n",
    "3. Calculate what the highest and lowest opening prices were for the stock in this period.\n",
    "4. What was the largest change in any one day (based on High and Low price)?\n",
    "5. What was the largest change between any two days (based on Closing Price)?\n",
    "6. What was the average daily trading volume during this year?\n",
    "7. (Optional) What was the median trading volume during this year. (Note: you may need to implement your own function for calculating the median.)"
   ]
  },
  {
   "cell_type": "code",
   "execution_count": 90,
   "metadata": {},
   "outputs": [
    {
     "name": "stdout",
     "output_type": "stream",
     "text": [
      "45.0\n",
      "112.0\n",
      "290.0\n",
      "522.0\n",
      "587.0\n",
      "686.0\n",
      "1081.0\n",
      "1945.0\n",
      "27507.0\n",
      "34640.0\n",
      "37014.0\n",
      "37958.0\n",
      "38308.0\n",
      "38518.0\n",
      "38834.0\n",
      "39195.0\n",
      "39731.0\n",
      "40660.0\n",
      "40705.0\n",
      "40800.0\n",
      "41911.0\n",
      "42669.0\n",
      "43042.0\n",
      "43362.0\n",
      "43375.0\n",
      "43976.0\n",
      "43988.0\n",
      "44037.0\n",
      "44059.0\n",
      "44700.0\n",
      "44803.0\n",
      "45111.0\n",
      "45263.0\n",
      "46070.0\n",
      "46510.0\n",
      "47130.0\n",
      "47730.0\n",
      "47879.0\n",
      "47999.0\n",
      "48123.0\n",
      "48152.0\n",
      "48412.0\n",
      "48706.0\n",
      "48797.0\n",
      "49180.0\n",
      "49246.0\n",
      "49863.0\n",
      "49970.0\n",
      "50350.0\n",
      "50549.0\n",
      "50557.0\n",
      "50587.0\n",
      "51321.0\n",
      "52828.0\n",
      "54107.0\n",
      "54279.0\n",
      "54408.0\n",
      "55333.0\n",
      "55707.0\n",
      "55799.0\n",
      "56071.0\n",
      "56224.0\n",
      "56240.0\n",
      "56245.0\n",
      "56319.0\n",
      "56319.0\n",
      "56906.0\n",
      "56911.0\n",
      "57452.0\n",
      "57838.0\n",
      "59367.0\n",
      "59881.0\n",
      "59991.0\n",
      "60324.0\n",
      "60420.0\n",
      "60583.0\n",
      "60716.0\n",
      "61925.0\n",
      "62225.0\n",
      "62297.0\n",
      "62655.0\n",
      "62672.0\n",
      "63371.0\n",
      "64103.0\n",
      "64320.0\n",
      "64334.0\n",
      "65157.0\n",
      "65213.0\n",
      "65266.0\n",
      "65546.0\n",
      "65837.0\n",
      "65847.0\n",
      "65860.0\n",
      "65931.0\n",
      "66116.0\n",
      "66351.0\n",
      "66760.0\n",
      "67342.0\n",
      "67375.0\n",
      "67410.0\n",
      "67440.0\n",
      "67593.0\n",
      "67672.0\n",
      "67781.0\n",
      "68801.0\n",
      "68812.0\n",
      "69455.0\n",
      "69603.0\n",
      "69657.0\n",
      "69734.0\n",
      "70056.0\n",
      "70269.0\n",
      "70618.0\n",
      "70856.0\n",
      "71006.0\n",
      "71165.0\n",
      "71381.0\n",
      "71817.0\n",
      "71868.0\n",
      "71971.0\n",
      "72886.0\n",
      "73105.0\n",
      "73322.0\n",
      "73422.0\n",
      "74453.0\n",
      "74472.0\n",
      "74975.0\n",
      "76286.0\n",
      "76600.0\n",
      "77420.0\n",
      "77619.0\n",
      "77854.0\n",
      "78502.0\n",
      "78512.0\n",
      "79955.0\n",
      "80246.0\n",
      "80586.0\n",
      "81255.0\n",
      "81945.0\n",
      "81970.0\n",
      "82058.0\n",
      "82492.0\n",
      "82601.0\n",
      "82745.0\n",
      "83023.0\n",
      "83741.0\n",
      "84682.0\n",
      "85137.0\n",
      "85973.0\n",
      "86348.0\n",
      "86348.0\n",
      "86559.0\n",
      "86753.0\n",
      "87399.0\n",
      "87911.0\n",
      "88416.0\n",
      "88416.0\n",
      "88416.0\n",
      "88730.0\n",
      "89373.0\n",
      "89752.0\n",
      "90109.0\n",
      "90245.0\n",
      "90538.0\n",
      "91142.0\n",
      "91858.0\n",
      "92722.0\n",
      "94195.0\n",
      "94385.0\n",
      "94804.0\n",
      "95313.0\n",
      "95376.0\n",
      "95382.0\n",
      "96202.0\n",
      "96794.0\n",
      "97252.0\n",
      "97456.0\n",
      "97572.0\n",
      "97804.0\n",
      "98156.0\n",
      "99674.0\n",
      "99821.0\n",
      "101294.0\n",
      "101476.0\n",
      "101733.0\n",
      "101733.0\n",
      "102084.0\n",
      "102180.0\n",
      "103273.0\n",
      "104003.0\n",
      "104282.0\n",
      "104676.0\n",
      "104995.0\n",
      "105194.0\n",
      "105288.0\n",
      "106513.0\n",
      "107144.0\n",
      "107644.0\n",
      "107817.0\n",
      "108334.0\n",
      "109157.0\n",
      "111923.0\n",
      "112224.0\n",
      "112942.0\n",
      "114006.0\n",
      "115075.0\n",
      "115705.0\n",
      "115706.0\n",
      "115843.0\n",
      "117165.0\n",
      "120268.0\n",
      "120649.0\n",
      "123019.0\n",
      "123530.0\n",
      "127682.0\n",
      "127973.0\n",
      "128434.0\n",
      "129733.0\n",
      "131361.0\n",
      "132981.0\n",
      "133057.0\n",
      "134965.0\n",
      "136112.0\n",
      "137313.0\n",
      "149515.0\n",
      "151439.0\n",
      "151474.0\n",
      "151683.0\n",
      "156005.0\n",
      "156168.0\n",
      "157234.0\n",
      "157888.0\n",
      "158278.0\n",
      "159495.0\n",
      "163860.0\n",
      "164543.0\n",
      "166160.0\n",
      "169971.0\n",
      "175161.0\n",
      "177171.0\n",
      "183412.0\n",
      "186784.0\n",
      "187468.0\n",
      "189125.0\n",
      "189201.0\n",
      "191515.0\n",
      "193156.0\n",
      "193702.0\n",
      "202214.0\n",
      "204080.0\n",
      "210926.0\n",
      "223621.0\n",
      "335406.0\n",
      "355857.0\n",
      "670349.0\n"
     ]
    }
   ],
   "source": [
    "answers = dict()\n",
    "\n",
    "open_data = list(filter(None.__ne__, AFX_data_2017['Open'].values()))\n",
    "answers[3] = (max(open_data), min(open_data))\n",
    "\n",
    "open_close = [(o,c) for (o,c) in zip(AFX_data_2017['Open'].values(), AFX_data_2017['Close'].values()) \n",
    "              if o != None and c != None]\n",
    "answers[4] = max([o - c for (o,c) in open_close])\n",
    "\n",
    "close_data = list(filter(None.__ne__, AFX_data_2017['Close'].values()))\n",
    "prefix_mins = [min(close_data[:i+1]) for i in range(len(close_data))]\n",
    "suffix_maxs = [max(close_data[i:])   for i in range(len(close_data))]\n",
    "answers[5] = max([(s - p) for (s,p) in zip(suffix_maxs, prefix_mins)])\n",
    "\n",
    "volume_data = list(filter(None.__ne__, AFX_data_2017['Traded Volume'].values()))\n",
    "answers[6] = sum(volume_data)/len(volume_data)\n",
    "\n",
    "def median(L):\n",
    "    Lsorted = sorted(L)\n",
    "    n = len(L)\n",
    "    if n%2 == 1: return Lsorted[(n+1)//2]\n",
    "    else: return (Lsorted[n//2] + Lsorted[n//2 - 1])/2\n",
    "    \n",
    "answers[7] = median(volume_data)\n",
    "\n",
    "for v in sorted(volume_data):print(v)"
   ]
  },
  {
   "cell_type": "code",
   "execution_count": 93,
   "metadata": {},
   "outputs": [
    {
     "name": "stdout",
     "output_type": "stream",
     "text": [
      "\n",
      "    3. The highest opening price was 53.11, and the lowest opening price was 34.0.\n",
      "    \n",
      "    4. The largest change in price over a change over a day was 1.6899999999999977.\n",
      "    \n",
      "    5. The largest change in closing price between any two days was 5.979999999999997.\n",
      "    \n",
      "    6. The average traded volume was 89124.33725490196.\n",
      "    \n",
      "    7. The median traded volume was 76600.0.\n",
      "\n",
      "\n"
     ]
    }
   ],
   "source": [
    "print(\n",
    "\"\"\"\n",
    "    3. The highest opening price was {}, and the lowest opening price was {}.\n",
    "    \n",
    "    4. The largest change in price over a change over a day was {}.\n",
    "    \n",
    "    5. The largest change in closing price between any two days was {}.\n",
    "    \n",
    "    6. The average traded volume was {}.\n",
    "    \n",
    "    7. The median traded volume was {}.\n",
    "\n",
    "\"\"\".format(answers[3][0], answers[3][1], answers[4], answers[5], answers[6], answers[7])\n",
    ")"
   ]
  },
  {
   "cell_type": "code",
   "execution_count": null,
   "metadata": {},
   "outputs": [],
   "source": []
  }
 ],
 "metadata": {
  "interpreter": {
   "hash": "7635eb1b9d0fe97add78a7368b6b431c09bb8ad5c42e437d64abdd99821c31ae"
  },
  "kernelspec": {
   "display_name": "Python 3",
   "language": "python",
   "name": "python3"
  },
  "language_info": {
   "codemirror_mode": {
    "name": "ipython",
    "version": 3
   },
   "file_extension": ".py",
   "mimetype": "text/x-python",
   "name": "python",
   "nbconvert_exporter": "python",
   "pygments_lexer": "ipython3",
   "version": "3.8.8"
  }
 },
 "nbformat": 4,
 "nbformat_minor": 4
}
