{
 "cells": [
  {
   "cell_type": "markdown",
   "id": "8e7e347f",
   "metadata": {},
   "source": [
    "This is a math test: If we let $x$ be the golden ratio, then\n",
    "$$\n",
    "x^2 = x + 1\n",
    "$$"
   ]
  },
  {
   "cell_type": "code",
   "execution_count": 52,
   "id": "e51ea8aa",
   "metadata": {},
   "outputs": [
    {
     "name": "stdout",
     "output_type": "stream",
     "text": [
      "              Game 1  Game 2  Game 3  Game 4  Game 5  Game 6  Game 7  Game 8  Game 9 Game 10\n",
      "    Round  1 │      │   4/9 │   7/8 │       │  5/10 │       │   2/3 │   1/6 │       │       │ \n",
      "    Round  2 │      │   1/3 │   6/9 │       │   2/8 │       │  7/10 │       │   4/5 │       │ \n",
      "    Round  3 │  5/6 │       │       │       │   3/7 │       │   1/4 │       │  9/10 │       │ \n",
      "    Round  4 │  3/8 │       │       │  4/10 │       │   1/2 │       │   7/9 │       │   5/6 │ \n",
      "    Round  5 │  4/7 │  2/10 │   1/5 │       │       │   3/9 │   6/8 │       │       │       │ \n",
      "    Round  6 │ 1/10 │   6/7 │       │   3/5 │       │   4/8 │       │       │       │   2/9 │ \n",
      "    Round  7 │      │       │       │   2/6 │   1/9 │   5/7 │       │       │       │   3/8 │ \n",
      "    Round  8 │      │       │       │   8/9 │   4/6 │       │       │       │   2/7 │  1/10 │ \n",
      "    Round  9 │      │       │   2/4 │   1/7 │       │       │   5/9 │  8/10 │   3/6 │       │ \n",
      "    Round 10 │      │       │  3/10 │       │       │       │       │   2/5 │   1/8 │   4/7 │ \n",
      "    Round 11 │  2/9 │   5/8 │       │       │       │  6/10 │       │   3/4 │       │       │ \n"
     ]
    }
   ],
   "source": [
    "def color(G, k, coloring = dict()):\n",
    "    # Yields all k-colorings of a graph G.\n",
    "    # G is represented as an adjacency dictionary.\n",
    "    \n",
    "    # If everything is already colored, you are done\n",
    "    if len(coloring) == len(G):\n",
    "        yield coloring\n",
    "        return \n",
    "    \n",
    "    # Choose an aribitrary, uncolored vertex\n",
    "    uncolored_vertices = set(G.keys()) - set(coloring.keys())\n",
    "    v = next(iter(uncolored_vertices))\n",
    "    \n",
    "    # Try each possible color for chosen vertex\n",
    "    for c in range(k):\n",
    "        \n",
    "        #Check if any of v's neighbors are already colored c.\n",
    "        v_can_be_colored_c = True\n",
    "        for w in G[v]:\n",
    "            if w in coloring and coloring[w] == c:\n",
    "                v_can_be_colored_c = False\n",
    "                \n",
    "        if v_can_be_colored_c:\n",
    "            # Assign v color c, then recursively loop through \n",
    "            # colorings where v is assigned c.\n",
    "            coloring[v] = c\n",
    "            yield from color(G, k, coloring)\n",
    "            # Erase the color\n",
    "            del coloring[v]\n",
    "\n",
    "n = 10\n",
    "num_colors = n + 1\n",
    "assert n % 2 == 0\n",
    "\n",
    "vertices = []\n",
    "\n",
    "for x in range(n-1):\n",
    "    vertices.append((x, n - 1, x))\n",
    "    for d in range(1, n//2):\n",
    "        i , j = (x - d) % (n - 1), (x + d) % (n - 1)\n",
    "        vertices.append((min(i,j), max(i,j), x))\n",
    "vertices.append((0, n - 1, n - 1))\n",
    "\n",
    "for d in range(1, n//2):\n",
    "    i , j = (0 - d) % (n - 1), (0 + d) % (n - 1)\n",
    "    vertices.append((min(i,j), max(i,j), n - 1))\n",
    "    \n",
    "from itertools import combinations\n",
    "    \n",
    "G = {v : [] for v in vertices}\n",
    "for (i1, j1, k1) , (i2, j2, k2) in combinations(vertices, 2):\n",
    "    if len({i1, j1} & {i2, j2}) >= 1 or k1 == k2:\n",
    "        G[(i1, j1, k1)].append((i2, j2, k2))\n",
    "        G[(i2, j2, k2)].append((i1, j1, k1))\n",
    "\n",
    "        \n",
    "C = next(color(G, num_colors))\n",
    "        \n",
    "rounds = [[' '*5]*n for _ in range(num_colors)]\n",
    "for i, j, k in G:\n",
    "    rounds[C[i,j,k]][k] = (str(i+1) + '/' + str(j+1)).rjust(5)\n",
    "\n",
    "print(' '*12, end = '')\n",
    "for i in range(n):\n",
    "        print(('Game ' + str(i+1)).rjust(8), end = '')\n",
    "print()\n",
    "for i, row in enumerate(rounds):\n",
    "    print('    Round '+ str(i+1).rjust(2) +' │', end  ='')\n",
    "    for item in row:\n",
    "        print(item, end = ' │ ')\n",
    "    print()"
   ]
  },
  {
   "cell_type": "code",
   "execution_count": null,
   "id": "75271224",
   "metadata": {},
   "outputs": [],
   "source": []
  }
 ],
 "metadata": {
  "kernelspec": {
   "display_name": "Python 3",
   "language": "python",
   "name": "python3"
  },
  "language_info": {
   "codemirror_mode": {
    "name": "ipython",
    "version": 3
   },
   "file_extension": ".py",
   "mimetype": "text/x-python",
   "name": "python",
   "nbconvert_exporter": "python",
   "pygments_lexer": "ipython3",
   "version": "3.8.8"
  }
 },
 "nbformat": 4,
 "nbformat_minor": 5
}
